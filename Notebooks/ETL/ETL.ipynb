{
 "cells": [
  {
   "cell_type": "markdown",
   "metadata": {},
   "source": [
    "# Archivo de ETL (Extract Transform and Load)\n",
    "\n",
    "En este archivo se van a realizar las tareas necesarias para procesar los archivos de homicidios y lesiones, haciendo un acomodo de información con el objetivo de tener un archivo limpio y fácil de analizar.\n",
    "\n",
    "Aprovechando que los archivos en su formato original están en Excel, nos dimos a la tarea de realizar cierta exploración de los datos, además, se revisó a detalle el diccionado de datos de cada archivo "
   ]
  },
  {
   "cell_type": "code",
   "execution_count": 3,
   "metadata": {},
   "outputs": [],
   "source": [
    "# Se importan las librerías necesarias de trabajo\n",
    "\n",
    "import pandas as pd # Para trabajar con datasets\n",
    "import numpy as np # Para realizar operaciones dentro de los datasets"
   ]
  },
  {
   "cell_type": "code",
   "execution_count": 4,
   "metadata": {},
   "outputs": [],
   "source": [
    "# Comenzamos con la carga de los archivos de excel en un dataframe de pandas\n",
    "# Se crea un objeto de tipo archivo para almacenar el archivo de Excel de homicidios\n",
    "Archivo_Homicidios = xls_file = pd.ExcelFile(\"..\\..\\DataSets originales\\homicidios.xlsx\", engine='openpyxl')\n",
    "df_Homicidios_Hechos = pd.read_excel(Archivo_Homicidios, \"HECHOS\") # Se crea el DF de homicidios de la pestaña de \"Hecho\"\n",
    "df_Homicidios_Victimas = pd.read_excel(Archivo_Homicidios, \"VICTIMAS\") # Se crea el DF de homicidios de la pestaña \"Victimas\"\n",
    "# Se crea un objeto de tipo archivo para almacenar el archivo de Excel de lesiones\n",
    "Archivo_Lesiones = xls_file = pd.ExcelFile(\"..\\..\\DataSets originales\\lesiones.xlsx\", engine='openpyxl')\n",
    "df_Lesiones_Hechos = pd.read_excel(Archivo_Lesiones, \"HECHOS\") # Se crea el DF de homicidios de la pestaña de \"Hecho\"\n",
    "df_Lesiones_Victimas = pd.read_excel(Archivo_Lesiones, \"VICTIMAS\") # Se crea el DF de homicidios de la pestaña \"Victimas\""
   ]
  },
  {
   "cell_type": "markdown",
   "metadata": {},
   "source": [
    "# Limpieza de la pestaña hechos del archivo homicidios"
   ]
  },
  {
   "cell_type": "code",
   "execution_count": null,
   "metadata": {},
   "outputs": [],
   "source": [
    "# Analizamos de forma general\n",
    "df_Homicidios_Hechos.info()"
   ]
  },
  {
   "cell_type": "code",
   "execution_count": 5,
   "metadata": {},
   "outputs": [],
   "source": [
    "# Haciendo uso del diccionario de datos y de la exploración de las colulmnas por medio de la aplicación Excel, \n",
    "# nos damos cuenta que podemos realizar ciertos arreglos a nuestro dataframe\n",
    "\n",
    "# Se eliminan los espacios en blanco existentes en las columnas\n",
    "df_Homicidios_Hechos.map(lambda x: x.strip() if isinstance(x, str) else x)\n",
    "# Se reemplazan todos los valores que digan \"Point (. .)\" por NAN en la columna XY (CABA)\n",
    "df_Homicidios_Hechos[\"XY (CABA)\"].replace([\"Point (..)\", \"\"], np.nan, inplace=True)\n",
    "# Se reemplazan todos los valores que digan \".\" en la columna pos x\n",
    "df_Homicidios_Hechos[\"pos x\"].replace([\".\", \"\"], np.nan, inplace=True)\n",
    "# Se reemplazan todos los valores que digan \".\" en la columna pos y\n",
    "df_Homicidios_Hechos[\"pos y\"].replace([\".\", \"\"], np.nan, inplace=True)\n",
    "# Se reemplazan todos los valores 'SD' por NaN en todo el DataFrame\n",
    "df_Homicidios_Hechos.replace(['SD','sd'], np.nan, inplace=True)\n",
    "# Se reemplazan todos los valores vacios por NaN en todo el dataframe\n",
    "df_Homicidios_Hechos.replace([''], np.nan, inplace=True)\n"
   ]
  },
  {
   "cell_type": "code",
   "execution_count": 8,
   "metadata": {},
   "outputs": [],
   "source": [
    "# Se procede a arreglar el tamaño del dataframe por medio del acomodo de sus columnas\n",
    "\n",
    "# Se eliminan las columnas de año, mes, día y hora, debido a que ya se encuentran en otra columna con el nombre de fecha\n",
    "df_Homicidios_Hechos.drop([\"AAAA\",\"MM\",\"DD\"], axis=1, inplace=True)\n",
    "# Se renombran las columnas para leerlas con mayor facilidad\n",
    "Columnas_Renombrar = {'ID': 'Id_Homicidio', 'N_VICTIMAS': 'Nro_Victimas', 'FECHA': 'Fecha', 'HORA': 'Hora_Hecho', 'HH': 'Hora',\n",
    "               'TIPO_DE_CALLE': 'Tipo_Calle', \"LUGAR_DEL_HECHO\": \"Lugar_Hecho\", \"Dirección Normalizada\": \"Direccion_Normalizada\", 'COMUNA': 'Comuna', 'pos x': 'Longitud', 'pos y': 'Latitud',\n",
    "               'VICTIMA': 'Vehiculo_Victima', 'ACUSADO': 'Vehiculo_Acusado', \"PARTICIPANTES\": \"Participantes\"} # Se define el diccionario de columnas \n",
    "df_Homicidios_Hechos.rename(columns=Columnas_Renombrar, inplace=True) # Se ejecuta el reemplazo en el DF\n",
    "# Se convierten en enteros las columnas que contienen enteros\n",
    "df_Homicidios_Hechos[\"Nro_Victimas\"] = pd.to_numeric(df_Homicidios_Hechos[\"Nro_Victimas\"], errors='coerce').astype('Int64')\n",
    "df_Homicidios_Hechos['Hora'] = pd.to_numeric(df_Homicidios_Hechos['Hora'], errors='coerce').astype('Int64')\n",
    "df_Homicidios_Hechos['Comuna'] = pd.to_numeric(df_Homicidios_Hechos['Comuna'], errors='coerce').astype('Int64')"
   ]
  },
  {
   "cell_type": "markdown",
   "metadata": {},
   "source": [
    "Analizando valores específicos de cada columna y realizando cierta investigación sobre la manera en que está organizada la Ciudad Autónoma de Buenos Aires (CABA), notamos que se distribuye la población por medio de comunas, que van de la 1 a la 15, por ende, buscamos reemplazar aquellos valores que marquen un valor 0 en la comuna.\n",
    "\n",
    "Adicional, aprovechando que la cantidad de registros con una Latitud y Longitud son pocos, nos dimos a la tarea de utilizar google maps para obtener estos valores y poder reemplazar los datos vacíos por datos reales.\n",
    "\n",
    "Por último, notamos un error de escritura, donde uno de los registros muestra en la columna \"Victima\" el valor \"Peaton-Moto\", el cuál, al cruzarlo con la pestaña de Victimas, nos damos cuenta que el valor correcto tendrá que ser Peaton"
   ]
  },
  {
   "cell_type": "code",
   "execution_count": 10,
   "metadata": {},
   "outputs": [],
   "source": [
    "# Comenzamos con los apartados de comuna, Longitud y Latitud\n",
    "\n",
    "# Definir los registros que deseas reemplazar en un diccionario\n",
    "registros_a_reemplazar = [\n",
    "    {'Id_Homicidio': '2016-0174', 'Comuna': 7, 'Longitud': -58.369529920, 'Latitud': -34.622472560}, # Comunas 0 \n",
    "    {'Id_Homicidio': '2016-0151', 'Comuna': 10, 'Longitud': -58.52756365, 'Latitud': -34.62772274}, # Comunas 0 \n",
    "    {'Id_Homicidio': '2018-0039', 'Comuna': 14, 'Longitud': -58.457579360, 'Latitud': -34.538957930}, #sin Longitud/Latitud\n",
    "    {'Id_Homicidio': '2020-0026', 'Comuna': 14, 'Longitud': -58.457579360, 'Latitud': -34.538957930}, #sin Longitud/Latitud  \n",
    "    {'Id_Homicidio': '2017-0042', 'Comuna': 14, 'Longitud': -58.457579360, 'Latitud': -34.538957930}, #sin Longitud/Latitud  \n",
    "    {'Id_Homicidio': '2017-0050', 'Comuna': 9, 'Longitud': -58.481800300, 'Latitud': -34.647005340}, #sin Longitud/Latitud\n",
    "    {'Id_Homicidio': '2017-0051', 'Comuna': 7, 'Longitud': -58.479447760, 'Latitud': -34.678121010}, #sin Longitud/Latitud      \n",
    "    {'Id_Homicidio': '2017-0140', 'Comuna': 4, 'Longitud': -58.380781350, 'Latitud': -34.622364700}, #sin Longitud/Latitud\n",
    "    {'Id_Homicidio': '2020-0039', 'Comuna': 9, 'Longitud': -58.483096200, 'Latitud': -34.671405150}, #sin Longitud/Latitud   \n",
    "    {'Id_Homicidio': '2021-0023', 'Comuna': 4, 'Longitud': -58.364905600, 'Latitud': -34.622974220}, #sin Longitud/Latitud  \n",
    "    {'Id_Homicidio': '2016-0052', 'Comuna': 13, 'Longitud': -58.457579360, 'Latitud': -34.538957930}, #sin Longitud/Latitud   \n",
    "    {'Id_Homicidio': '2016-0136', 'Comuna': 4, 'Longitud': -58.363401550, 'Latitud': -34.624371200}, #sin Longitud/Latitud  \n",
    "] \n",
    "\n",
    "# Creamos un for para hacer un recorrido por todos los registros a reemplazar\n",
    "for registro in registros_a_reemplazar: # Se inicia el ciclo y se guardarán en nuevas variables los datos que contiene el diccionario\n",
    "    Id_Hecho = registro['Id_Homicidio'] \n",
    "    Comuna = registro['Comuna']\n",
    "    Longitud = registro['Longitud']\n",
    "    Latitud = registro['Latitud']\n",
    "\n",
    "    # Se utiliza loc para reemplazar los valores específicos en cada registro según el Id_Hecho\n",
    "    df_Homicidios_Hechos.loc[df_Homicidios_Hechos['Id_Homicidio'] == Id_Hecho, 'Comuna'] = Comuna\n",
    "    df_Homicidios_Hechos.loc[df_Homicidios_Hechos['Id_Homicidio'] == Id_Hecho, 'Longitud'] = Longitud\n",
    "    df_Homicidios_Hechos.loc[df_Homicidios_Hechos['Id_Homicidio'] == Id_Hecho, 'Latitud'] = Latitud\n",
    "\n",
    "# Se hace la sistitución del valor \"PeatonMoto\" de la columna victima\n",
    "df_Homicidios_Hechos.loc[df_Homicidios_Hechos['Vehiculo_Victima'] == \"PEATON_MOTO\", 'Vehiculo_Victima'] = \"Peaton\""
   ]
  },
  {
   "cell_type": "code",
   "execution_count": 11,
   "metadata": {},
   "outputs": [
    {
     "data": {
      "text/html": [
       "<div>\n",
       "<style scoped>\n",
       "    .dataframe tbody tr th:only-of-type {\n",
       "        vertical-align: middle;\n",
       "    }\n",
       "\n",
       "    .dataframe tbody tr th {\n",
       "        vertical-align: top;\n",
       "    }\n",
       "\n",
       "    .dataframe thead th {\n",
       "        text-align: right;\n",
       "    }\n",
       "</style>\n",
       "<table border=\"1\" class=\"dataframe\">\n",
       "  <thead>\n",
       "    <tr style=\"text-align: right;\">\n",
       "      <th></th>\n",
       "      <th>Id_Homicidio</th>\n",
       "      <th>Nro_Victimas</th>\n",
       "      <th>Fecha</th>\n",
       "      <th>Hora_Hecho</th>\n",
       "      <th>Hora</th>\n",
       "      <th>Lugar_Hecho</th>\n",
       "      <th>Tipo_Calle</th>\n",
       "      <th>Calle</th>\n",
       "      <th>Altura</th>\n",
       "      <th>Cruce</th>\n",
       "      <th>Direccion_Normalizada</th>\n",
       "      <th>Comuna</th>\n",
       "      <th>XY (CABA)</th>\n",
       "      <th>Longitud</th>\n",
       "      <th>Latitud</th>\n",
       "      <th>Participantes</th>\n",
       "      <th>Vehiculo_Victima</th>\n",
       "      <th>Vehiculo_Acusado</th>\n",
       "    </tr>\n",
       "  </thead>\n",
       "  <tbody>\n",
       "    <tr>\n",
       "      <th>0</th>\n",
       "      <td>2016-0001</td>\n",
       "      <td>1</td>\n",
       "      <td>2016-01-01</td>\n",
       "      <td>04:00:00</td>\n",
       "      <td>4</td>\n",
       "      <td>AV PIEDRA BUENA Y AV FERNANDEZ DE LA CRUZ</td>\n",
       "      <td>AVENIDA</td>\n",
       "      <td>PIEDRA BUENA AV.</td>\n",
       "      <td>NaN</td>\n",
       "      <td>FERNANDEZ DE LA CRUZ, F., GRAL. AV.</td>\n",
       "      <td>PIEDRA BUENA AV. y FERNANDEZ DE LA CRUZ, F., G...</td>\n",
       "      <td>8</td>\n",
       "      <td>Point (98896.78238426 93532.43437792)</td>\n",
       "      <td>-58.47533969</td>\n",
       "      <td>-34.68757022</td>\n",
       "      <td>MOTO-AUTO</td>\n",
       "      <td>MOTO</td>\n",
       "      <td>AUTO</td>\n",
       "    </tr>\n",
       "    <tr>\n",
       "      <th>1</th>\n",
       "      <td>2016-0002</td>\n",
       "      <td>1</td>\n",
       "      <td>2016-01-02</td>\n",
       "      <td>01:15:00</td>\n",
       "      <td>1</td>\n",
       "      <td>AV GRAL PAZ  Y AV DE LOS CORRALES</td>\n",
       "      <td>GRAL PAZ</td>\n",
       "      <td>PAZ, GRAL. AV.</td>\n",
       "      <td>NaN</td>\n",
       "      <td>DE LOS CORRALES AV.</td>\n",
       "      <td>PAZ, GRAL. AV. y DE LOS CORRALES AV.</td>\n",
       "      <td>9</td>\n",
       "      <td>Point (95832.05571093 95505.41641999)</td>\n",
       "      <td>-58.50877521</td>\n",
       "      <td>-34.66977709</td>\n",
       "      <td>AUTO-PASAJEROS</td>\n",
       "      <td>AUTO</td>\n",
       "      <td>PASAJEROS</td>\n",
       "    </tr>\n",
       "    <tr>\n",
       "      <th>2</th>\n",
       "      <td>2016-0003</td>\n",
       "      <td>1</td>\n",
       "      <td>2016-01-03</td>\n",
       "      <td>07:00:00</td>\n",
       "      <td>7</td>\n",
       "      <td>AV ENTRE RIOS 2034</td>\n",
       "      <td>AVENIDA</td>\n",
       "      <td>ENTRE RIOS AV.</td>\n",
       "      <td>2034.0</td>\n",
       "      <td>NaN</td>\n",
       "      <td>ENTRE RIOS AV. 2034</td>\n",
       "      <td>1</td>\n",
       "      <td>Point (106684.29090040 99706.57687843)</td>\n",
       "      <td>-58.39040293</td>\n",
       "      <td>-34.63189362</td>\n",
       "      <td>MOTO-AUTO</td>\n",
       "      <td>MOTO</td>\n",
       "      <td>AUTO</td>\n",
       "    </tr>\n",
       "    <tr>\n",
       "      <th>3</th>\n",
       "      <td>2016-0004</td>\n",
       "      <td>1</td>\n",
       "      <td>2016-01-10</td>\n",
       "      <td>00:00:00</td>\n",
       "      <td>0</td>\n",
       "      <td>AV LARRAZABAL Y GRAL VILLEGAS CONRADO</td>\n",
       "      <td>AVENIDA</td>\n",
       "      <td>LARRAZABAL AV.</td>\n",
       "      <td>NaN</td>\n",
       "      <td>VILLEGAS, CONRADO, GRAL.</td>\n",
       "      <td>LARRAZABAL AV. y VILLEGAS, CONRADO, GRAL.</td>\n",
       "      <td>8</td>\n",
       "      <td>Point (99840.65224780 94269.16534422)</td>\n",
       "      <td>-58.46503904</td>\n",
       "      <td>-34.68092974</td>\n",
       "      <td>MOTO-SD</td>\n",
       "      <td>MOTO</td>\n",
       "      <td>NaN</td>\n",
       "    </tr>\n",
       "    <tr>\n",
       "      <th>4</th>\n",
       "      <td>2016-0005</td>\n",
       "      <td>1</td>\n",
       "      <td>2016-01-21</td>\n",
       "      <td>05:20:00</td>\n",
       "      <td>5</td>\n",
       "      <td>AV SAN JUAN Y PRESIDENTE LUIS SAENZ PEÑA</td>\n",
       "      <td>AVENIDA</td>\n",
       "      <td>SAN JUAN AV.</td>\n",
       "      <td>NaN</td>\n",
       "      <td>SAENZ PE?A, LUIS, PRES.</td>\n",
       "      <td>SAN JUAN AV. y SAENZ PEÃ‘A, LUIS, PRES.</td>\n",
       "      <td>1</td>\n",
       "      <td>Point (106980.32827929 100752.16915795)</td>\n",
       "      <td>-58.38718297</td>\n",
       "      <td>-34.62246630</td>\n",
       "      <td>MOTO-PASAJEROS</td>\n",
       "      <td>MOTO</td>\n",
       "      <td>PASAJEROS</td>\n",
       "    </tr>\n",
       "  </tbody>\n",
       "</table>\n",
       "</div>"
      ],
      "text/plain": [
       "  Id_Homicidio  Nro_Victimas      Fecha Hora_Hecho  Hora  \\\n",
       "0    2016-0001             1 2016-01-01   04:00:00     4   \n",
       "1    2016-0002             1 2016-01-02   01:15:00     1   \n",
       "2    2016-0003             1 2016-01-03   07:00:00     7   \n",
       "3    2016-0004             1 2016-01-10   00:00:00     0   \n",
       "4    2016-0005             1 2016-01-21   05:20:00     5   \n",
       "\n",
       "                                 Lugar_Hecho Tipo_Calle             Calle  \\\n",
       "0  AV PIEDRA BUENA Y AV FERNANDEZ DE LA CRUZ    AVENIDA  PIEDRA BUENA AV.   \n",
       "1          AV GRAL PAZ  Y AV DE LOS CORRALES   GRAL PAZ    PAZ, GRAL. AV.   \n",
       "2                         AV ENTRE RIOS 2034    AVENIDA    ENTRE RIOS AV.   \n",
       "3      AV LARRAZABAL Y GRAL VILLEGAS CONRADO    AVENIDA    LARRAZABAL AV.   \n",
       "4  AV SAN JUAN Y PRESIDENTE LUIS SAENZ PEÑA     AVENIDA      SAN JUAN AV.   \n",
       "\n",
       "   Altura                                Cruce  \\\n",
       "0     NaN  FERNANDEZ DE LA CRUZ, F., GRAL. AV.   \n",
       "1     NaN                  DE LOS CORRALES AV.   \n",
       "2  2034.0                                  NaN   \n",
       "3     NaN             VILLEGAS, CONRADO, GRAL.   \n",
       "4     NaN              SAENZ PE?A, LUIS, PRES.   \n",
       "\n",
       "                               Direccion_Normalizada  Comuna  \\\n",
       "0  PIEDRA BUENA AV. y FERNANDEZ DE LA CRUZ, F., G...       8   \n",
       "1               PAZ, GRAL. AV. y DE LOS CORRALES AV.       9   \n",
       "2                                ENTRE RIOS AV. 2034       1   \n",
       "3          LARRAZABAL AV. y VILLEGAS, CONRADO, GRAL.       8   \n",
       "4            SAN JUAN AV. y SAENZ PEÃ‘A, LUIS, PRES.       1   \n",
       "\n",
       "                                 XY (CABA)      Longitud       Latitud  \\\n",
       "0    Point (98896.78238426 93532.43437792)  -58.47533969  -34.68757022   \n",
       "1    Point (95832.05571093 95505.41641999)  -58.50877521  -34.66977709   \n",
       "2   Point (106684.29090040 99706.57687843)  -58.39040293  -34.63189362   \n",
       "3    Point (99840.65224780 94269.16534422)  -58.46503904  -34.68092974   \n",
       "4  Point (106980.32827929 100752.16915795)  -58.38718297  -34.62246630   \n",
       "\n",
       "    Participantes Vehiculo_Victima Vehiculo_Acusado  \n",
       "0       MOTO-AUTO             MOTO             AUTO  \n",
       "1  AUTO-PASAJEROS             AUTO        PASAJEROS  \n",
       "2       MOTO-AUTO             MOTO             AUTO  \n",
       "3         MOTO-SD             MOTO              NaN  \n",
       "4  MOTO-PASAJEROS             MOTO        PASAJEROS  "
      ]
     },
     "execution_count": 11,
     "metadata": {},
     "output_type": "execute_result"
    }
   ],
   "source": [
    "# Se termina la limpieza del df de homicidios en la pestaña de hechos\n",
    "df_Homicidios_Hechos.head()"
   ]
  },
  {
   "cell_type": "markdown",
   "metadata": {},
   "source": [
    "# Limpieza de la pestaña Victimas del archivo homicidios"
   ]
  },
  {
   "cell_type": "code",
   "execution_count": 12,
   "metadata": {},
   "outputs": [
    {
     "name": "stdout",
     "output_type": "stream",
     "text": [
      "<class 'pandas.core.frame.DataFrame'>\n",
      "RangeIndex: 717 entries, 0 to 716\n",
      "Data columns (total 10 columns):\n",
      " #   Column               Non-Null Count  Dtype         \n",
      "---  ------               --------------  -----         \n",
      " 0   ID_hecho             717 non-null    object        \n",
      " 1   FECHA                717 non-null    datetime64[ns]\n",
      " 2   AAAA                 717 non-null    int64         \n",
      " 3   MM                   717 non-null    int64         \n",
      " 4   DD                   717 non-null    int64         \n",
      " 5   ROL                  717 non-null    object        \n",
      " 6   VICTIMA              717 non-null    object        \n",
      " 7   SEXO                 717 non-null    object        \n",
      " 8   EDAD                 717 non-null    object        \n",
      " 9   FECHA_FALLECIMIENTO  717 non-null    object        \n",
      "dtypes: datetime64[ns](1), int64(3), object(6)\n",
      "memory usage: 56.1+ KB\n"
     ]
    }
   ],
   "source": [
    "# Analizamos de forma general nuestro dataframe de victimas en homicidios\n",
    "df_Homicidios_Victimas.info()"
   ]
  },
  {
   "cell_type": "code",
   "execution_count": 13,
   "metadata": {},
   "outputs": [],
   "source": [
    "# Haciendo uso del diccionario de datos y de la exploración de las colulmnas por medio de la aplicación Excel, \n",
    "# nos damos cuenta que podemos realizar ciertos arreglos a nuestro dataframe\n",
    "\n",
    "# Se eliminan los espacios en blanco existentes en las columnas\n",
    "df_Homicidios_Victimas.map(lambda x: x.strip() if isinstance(x, str) else x)\n",
    "# Se reemplazan todos los valores 'SD' por NaN en todo el DataFrame\n",
    "df_Homicidios_Victimas.replace(['SD','sd'], np.nan, inplace=True)\n",
    "# Se reemplazan todos los valores vacios por NaN en todo el dataframe\n",
    "df_Homicidios_Victimas.replace([''], np.nan, inplace=True)"
   ]
  },
  {
   "cell_type": "code",
   "execution_count": 14,
   "metadata": {},
   "outputs": [],
   "source": [
    "# Se procede a arreglar el tamaño del dataframe por medio del acomodo de sus columnas\n",
    "\n",
    "# Se eliminan las columnas de fecha, año, mes, día, victima debido a que ya se encuentran en la pestaña de hechos\n",
    "df_Homicidios_Victimas.drop([\"FECHA\",\"AAAA\",\"MM\",\"DD\",\"VICTIMA\"], axis=1, inplace=True)\n",
    "# Se renombran las columnas para leerlas con mayor facilidad\n",
    "Columnas_Renombrar = {'ID_hecho': 'Id_Homicidio', 'ROL': 'Rol', 'SEXO': 'Sexo', \"EDAD\": \"Edad\", \"FECHA_FALLECIMIENTO\": \"Fecha_Fallecimiento\"} # Se define el diccionario de columnas \n",
    "df_Homicidios_Victimas.rename(columns=Columnas_Renombrar, inplace=True) # Se ejecuta el reemplazo en el DF\n",
    "# Se convierten en enteros las columnas que contienen enteros\n",
    "df_Homicidios_Victimas[\"Edad\"] = pd.to_numeric(df_Homicidios_Victimas[\"Edad\"], errors='coerce').astype('Int64') \n"
   ]
  },
  {
   "cell_type": "markdown",
   "metadata": {},
   "source": [
    "# Limpieza del archivo Lesiones en la pestaña hechos"
   ]
  },
  {
   "cell_type": "code",
   "execution_count": 15,
   "metadata": {},
   "outputs": [
    {
     "name": "stdout",
     "output_type": "stream",
     "text": [
      "<class 'pandas.core.frame.DataFrame'>\n",
      "RangeIndex: 23785 entries, 0 to 23784\n",
      "Data columns (total 27 columns):\n",
      " #   Column                 Non-Null Count  Dtype  \n",
      "---  ------                 --------------  -----  \n",
      " 0   id                     23785 non-null  object \n",
      " 1   n_victimas             23785 non-null  int64  \n",
      " 2   aaaa                   23785 non-null  int64  \n",
      " 3   mm                     23785 non-null  int64  \n",
      " 4   dd                     23785 non-null  int64  \n",
      " 5   fecha                  23785 non-null  object \n",
      " 6   hora                   23785 non-null  object \n",
      " 7   franja_hora            23780 non-null  object \n",
      " 8   direccion_normalizada  23732 non-null  object \n",
      " 9   comuna                 23616 non-null  object \n",
      " 10  tipo_calle             23785 non-null  object \n",
      " 11  otra_direccion         23785 non-null  object \n",
      " 12  calle                  12867 non-null  object \n",
      " 13  altura                 12771 non-null  float64\n",
      " 14  cruce                  9407 non-null   object \n",
      " 15  geocodificacion_CABA   23746 non-null  object \n",
      " 16  longitud               23523 non-null  object \n",
      " 17  latutid                23523 non-null  object \n",
      " 18  victima                23785 non-null  object \n",
      " 19  acusado                23785 non-null  object \n",
      " 20  participantes          23785 non-null  object \n",
      " 21  moto                   23692 non-null  object \n",
      " 22  auto                   23692 non-null  object \n",
      " 23  transporte_publico     23692 non-null  object \n",
      " 24  camion                 23692 non-null  object \n",
      " 25  ciclista               23692 non-null  object \n",
      " 26  gravedad               23785 non-null  object \n",
      "dtypes: float64(1), int64(4), object(22)\n",
      "memory usage: 4.9+ MB\n"
     ]
    }
   ],
   "source": [
    "# Análizamos el dataframe de forma general\n",
    "df_Lesiones_Hechos.info()"
   ]
  },
  {
   "cell_type": "code",
   "execution_count": 16,
   "metadata": {},
   "outputs": [],
   "source": [
    "# Haciendo uso del diccionario de datos y de la exploración de las colulmnas por medio de la aplicación Excel, \n",
    "# nos damos cuenta que podemos realizar ciertos arreglos a nuestro dataframe\n",
    "\n",
    "# Se eliminan los espacios en blanco existentes en las columnas\n",
    "df_Lesiones_Hechos.map(lambda x: x.strip() if isinstance(x, str) else x)\n",
    "# Se reemplazan todos los valores 'SD' por NaN en todo el DataFrame\n",
    "df_Lesiones_Hechos.replace(['SD','sd'], np.nan, inplace=True)\n",
    "# Se reemplazan todos los valores vacios por NaN en todo el dataframe\n",
    "df_Lesiones_Hechos.replace([''], np.nan, inplace=True)"
   ]
  },
  {
   "cell_type": "code",
   "execution_count": 18,
   "metadata": {},
   "outputs": [],
   "source": [
    "# Se sistituye el valor de aquellas comunas no especificadas \n",
    "df_Lesiones_Hechos.loc[df_Lesiones_Hechos['comuna'] == \"No Especificada\", 'comuna'] = np.nan\n",
    "# Se sustituye el valor de las edades que marquen 0\n",
    "df_Lesiones_Hechos.loc[df_Lesiones_Hechos['n_victimas'] == \"0\", 'n_victimas'] = np.nan"
   ]
  },
  {
   "cell_type": "code",
   "execution_count": 38,
   "metadata": {},
   "outputs": [],
   "source": [
    "# Convertimos en enteros aquellas columnas que tienen números\n",
    "df_Lesiones_Hechos[\"n_victimas\"] = pd.to_numeric(df_Lesiones_Hechos[\"n_victimas\"], errors='coerce').astype('Int64') \n",
    "df_Lesiones_Hechos[\"franja_hora\"] = pd.to_numeric(df_Lesiones_Hechos[\"franja_hora\"], errors='coerce').astype('Int64') \n",
    "df_Lesiones_Hechos[\"comuna\"] = pd.to_numeric(df_Lesiones_Hechos[\"comuna\"], errors='coerce').astype('Int64')\n",
    "\n",
    "# Se cambia el nombre a la columna de ID\n",
    "Columnas_Renombrar = {'id': 'Id_Lesion'} # Se define el diccionario de columnas \n",
    "df_Lesiones_Hechos.rename(columns=Columnas_Renombrar, inplace=True) # Se ejecuta el reemplazo en el DF"
   ]
  },
  {
   "cell_type": "markdown",
   "metadata": {},
   "source": [
    "# Limpieza del archivo lesiones en la pestaña victimas"
   ]
  },
  {
   "cell_type": "code",
   "execution_count": 21,
   "metadata": {},
   "outputs": [
    {
     "name": "stdout",
     "output_type": "stream",
     "text": [
      "<class 'pandas.core.frame.DataFrame'>\n",
      "RangeIndex: 27605 entries, 0 to 27604\n",
      "Data columns (total 9 columns):\n",
      " #   Column            Non-Null Count  Dtype         \n",
      "---  ------            --------------  -----         \n",
      " 0   ID hecho          27605 non-null  object        \n",
      " 1   AAA               27605 non-null  int64         \n",
      " 2   MM                27605 non-null  int64         \n",
      " 3   DD                27605 non-null  int64         \n",
      " 4   FECHA             27605 non-null  datetime64[ns]\n",
      " 5   VEHICULO_VICTIMA  27605 non-null  object        \n",
      " 6   SEXO              27605 non-null  object        \n",
      " 7   EDAD_VICTIMA      27605 non-null  object        \n",
      " 8   GRAVEDAD          27605 non-null  object        \n",
      "dtypes: datetime64[ns](1), int64(3), object(5)\n",
      "memory usage: 1.9+ MB\n"
     ]
    }
   ],
   "source": [
    "# Analizamos de forma general el DF\n",
    "df_Lesiones_Victimas.info()"
   ]
  },
  {
   "cell_type": "code",
   "execution_count": 22,
   "metadata": {},
   "outputs": [],
   "source": [
    "# Haciendo uso del diccionario de datos y de la exploración de las colulmnas por medio de la aplicación Excel, \n",
    "# nos damos cuenta que podemos realizar ciertos arreglos a nuestro dataframe\n",
    "\n",
    "# Se eliminan los espacios en blanco existentes en las columnas\n",
    "df_Lesiones_Victimas.map(lambda x: x.strip() if isinstance(x, str) else x)\n",
    "# Se reemplazan todos los valores 'SD' por NaN en todo el DataFrame\n",
    "df_Lesiones_Victimas.replace(['SD','sd'], np.nan, inplace=True)\n",
    "# Se reemplazan todos los valores vacios por NaN en todo el dataframe\n",
    "df_Lesiones_Victimas.replace([''], np.nan, inplace=True)"
   ]
  },
  {
   "cell_type": "code",
   "execution_count": 26,
   "metadata": {},
   "outputs": [],
   "source": [
    "# Se eliminan las columnas de año, mes, día, vehículo_Victima y gravedad\n",
    "df_Lesiones_Victimas.drop([\"AAA\",\"MM\",\"DD\",\"VEHICULO_VICTIMA\",\"GRAVEDAD\"], axis=1, inplace=True)\n"
   ]
  },
  {
   "cell_type": "code",
   "execution_count": 34,
   "metadata": {},
   "outputs": [],
   "source": [
    "# Se sustituye el valor de los sexos para estandarizar\n",
    "df_Lesiones_Victimas.loc[df_Lesiones_Victimas['SEXO'] == \"Varon\", 'SEXO'] = \"MASCULINO\"\n",
    "df_Lesiones_Victimas.loc[df_Lesiones_Victimas['SEXO'] == \"Mujer\", 'SEXO'] = \"FEMENINO\"\n",
    "\n",
    "# Se cambia el nombre a la columna de ID\n",
    "Columnas_Renombrar = {'ID hecho': 'Id_Lesion'} # Se define el diccionario de columnas \n",
    "df_Lesiones_Victimas.rename(columns=Columnas_Renombrar, inplace=True) # Se ejecuta el reemplazo en el DF"
   ]
  },
  {
   "cell_type": "markdown",
   "metadata": {},
   "source": [
    "# Union y definición final de archivos"
   ]
  },
  {
   "cell_type": "markdown",
   "metadata": {},
   "source": [
    "Se procede a unir los dataframe de cada archivo y concentrar la información en un archivo por separado"
   ]
  },
  {
   "cell_type": "code",
   "execution_count": 39,
   "metadata": {},
   "outputs": [],
   "source": [
    "# Unimos los dos dataframe de cada archivo en uno solo\n",
    "Union_Homicidios = pd.merge(df_Homicidios_Hechos, df_Homicidios_Victimas, left_on='Id_Homicidio', right_on='Id_Homicidio', how='inner')\n",
    "Union_Lesiones = pd.merge(df_Lesiones_Hechos, df_Lesiones_Victimas, left_on='Id_Lesion', right_on='Id_Lesion', how='inner')\n",
    "\n",
    "# Almacenar los DataFrames finales en un nuevo archivo CSV\n",
    "\n",
    "Union_Homicidios.to_csv('..\\..\\DataSets Limpios\\Homicidios_Limpio.csv', index=False)\n",
    "Union_Lesiones.to_csv('..\\..\\DataSets Limpios\\Lesiones_Limpio.csv', index=False)"
   ]
  }
 ],
 "metadata": {
  "kernelspec": {
   "display_name": "Python 3",
   "language": "python",
   "name": "python3"
  },
  "language_info": {
   "codemirror_mode": {
    "name": "ipython",
    "version": 3
   },
   "file_extension": ".py",
   "mimetype": "text/x-python",
   "name": "python",
   "nbconvert_exporter": "python",
   "pygments_lexer": "ipython3",
   "version": "3.11.4"
  }
 },
 "nbformat": 4,
 "nbformat_minor": 2
}
